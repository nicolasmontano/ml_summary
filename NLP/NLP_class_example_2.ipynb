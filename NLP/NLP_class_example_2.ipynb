{
  "nbformat": 4,
  "nbformat_minor": 0,
  "metadata": {
    "colab": {
      "provenance": [],
      "collapsed_sections": [
        "TXLqIHnNWYMN"
      ]
    },
    "kernelspec": {
      "name": "python3",
      "display_name": "Python 3"
    },
    "language_info": {
      "name": "python"
    },
    "gpuClass": "standard"
  },
  "cells": [
    {
      "cell_type": "markdown",
      "metadata": {
        "id": "view-in-github"
      },
      "source": [
        "<a href=\"https://colab.research.google.com/github/axel-sirota/tf-dev-nlp/blob/main/module4/TF_Developer_NLP_Module4_Demo1_Intent_Classification.ipynb\" target=\"_parent\"><img src=\"https://colab.research.google.com/assets/colab-badge.svg\" alt=\"Open In Colab\"/></a>"
      ]
    },
    {
      "cell_type": "markdown",
      "source": [
        "# Categorizing intent\n"
      ],
      "metadata": {
        "id": "QlJeKdJfTPMp"
      }
    },
    {
      "cell_type": "markdown",
      "source": [
        "## Setup"
      ],
      "metadata": {
        "id": "0BPO3rsP5nAF"
      }
    },
    {
      "cell_type": "markdown",
      "source": [
        "Let's first import everything and load the dataset"
      ],
      "metadata": {
        "id": "epE01e6NbbMg"
      }
    },
    {
      "cell_type": "markdown",
      "source": [],
      "metadata": {
        "id": "RQFc0qgwUcrQ"
      }
    },
    {
      "cell_type": "code",
      "source": [
        "#https://github.com/axel-sirota/tf-dev-nlp"
      ],
      "metadata": {
        "id": "7xs1Pve41SKi"
      },
      "execution_count": null,
      "outputs": []
    },
    {
      "cell_type": "code",
      "source": [
        "# !pip install -q textblob 'gensim==4.3.0' np-utils"
      ],
      "metadata": {
        "id": "Vny3vC29NVZ8",
        "colab": {
          "base_uri": "https://localhost:8080/"
        },
        "outputId": "5d0dc3ed-ca21-476b-95da-a7d2fe97b011"
      },
      "execution_count": 9,
      "outputs": [
        {
          "output_type": "stream",
          "name": "stdout",
          "text": [
            "\u001b[2K     \u001b[90m━━━━━━━━━━━━━━━━━━━━━━━━━━━━━━━━━━━━━━━━\u001b[0m \u001b[32m24.6/24.6 MB\u001b[0m \u001b[31m42.3 MB/s\u001b[0m eta \u001b[36m0:00:00\u001b[0m\n",
            "\u001b[?25h  \u001b[1;31merror\u001b[0m: \u001b[1msubprocess-exited-with-error\u001b[0m\n",
            "  \n",
            "  \u001b[31m×\u001b[0m \u001b[32mpip subprocess to install build dependencies\u001b[0m did not run successfully.\n",
            "  \u001b[31m│\u001b[0m exit code: \u001b[1;36m1\u001b[0m\n",
            "  \u001b[31m╰─>\u001b[0m See above for output.\n",
            "  \n",
            "  \u001b[1;35mnote\u001b[0m: This error originates from a subprocess, and is likely not a problem with pip.\n",
            "  Installing build dependencies ... \u001b[?25l\u001b[?25herror\n",
            "\u001b[1;31merror\u001b[0m: \u001b[1msubprocess-exited-with-error\u001b[0m\n",
            "\n",
            "\u001b[31m×\u001b[0m \u001b[32mpip subprocess to install build dependencies\u001b[0m did not run successfully.\n",
            "\u001b[31m│\u001b[0m exit code: \u001b[1;36m1\u001b[0m\n",
            "\u001b[31m╰─>\u001b[0m See above for output.\n",
            "\n",
            "\u001b[1;35mnote\u001b[0m: This error originates from a subprocess, and is likely not a problem with pip.\n"
          ]
        }
      ]
    },
    {
      "cell_type": "code",
      "execution_count": 8,
      "metadata": {
        "id": "ri00gAaqSzrq"
      },
      "outputs": [],
      "source": [
        "import multiprocessing\n",
        "import tensorflow as tf\n",
        "import sys\n",
        "from tensorflow.python.keras import backend as K\n",
        "# import keras.backend as K\n",
        "from keras.models import Sequential\n",
        "from keras.layers import Dense, Embedding, Lambda, Input\n",
        "# from keras.utils import np_utils\n",
        "import np_utils\n",
        "from keras.preprocessing import sequence\n",
        "# from keras.preprocessing.text import Tokenizer\n",
        "from tensorflow.keras.preprocessing.text import Tokenizer\n",
        "from textblob import TextBlob, Word\n",
        "# from keras_preprocessing.sequence import pad_sequences\n",
        "from tensorflow.keras.utils import pad_sequences\n",
        "from keras.initializers import Constant\n",
        "from tensorflow.nn import leaky_relu\n",
        "import re\n",
        "import random\n",
        "import os\n",
        "import gensim\n",
        "import numpy as np\n",
        "import pandas as pd\n",
        "import warnings\n",
        "import nltk\n",
        "\n",
        "epochs = 100\n",
        "embedding_dim = 100\n",
        "TRACE = False\n",
        "\n",
        "def set_seeds_and_trace():\n",
        "  os.environ['PYTHONHASHSEED'] = '0'\n",
        "  np.random.seed(42)\n",
        "  tf.random.set_seed(42)\n",
        "  random.seed(42)\n",
        "  if TRACE:\n",
        "    tf.debugging.set_log_device_placement(True)\n",
        "\n",
        "def set_session_with_gpus_and_cores():\n",
        "  cores = multiprocessing.cpu_count()\n",
        "  gpus = len(tf.config.list_physical_devices('GPU'))\n",
        "  config = tf.compat.v1.ConfigProto( device_count = {'GPU': gpus  , 'CPU': cores} , intra_op_parallelism_threads=1, inter_op_parallelism_threads=1)\n",
        "  sess = tf.compat.v1.Session(config=config)\n",
        "  K.set_session(sess)"
      ]
    },
    {
      "cell_type": "code",
      "source": [
        "set_seeds_and_trace()\n",
        "set_session_with_gpus_and_cores()\n",
        "warnings.filterwarnings('ignore')\n",
        "nltk.download('punkt')\n",
        "textblob_tokenizer = lambda x: TextBlob(x).words"
      ],
      "metadata": {
        "colab": {
          "base_uri": "https://localhost:8080/"
        },
        "id": "zWc5OnmKVt0y",
        "outputId": "23ab09de-5dcf-4c83-8e98-d7b6bc4f5cb3"
      },
      "execution_count": 5,
      "outputs": [
        {
          "output_type": "stream",
          "name": "stderr",
          "text": [
            "[nltk_data] Downloading package punkt to /root/nltk_data...\n",
            "[nltk_data]   Unzipping tokenizers/punkt.zip.\n"
          ]
        }
      ]
    },
    {
      "cell_type": "markdown",
      "source": [
        "Now we will download the dataset and explore it"
      ],
      "metadata": {
        "id": "8L6HlScpFdd9"
      }
    },
    {
      "cell_type": "code",
      "source": [
        "%%writefile get_data.sh\n",
        "if [ ! -f intents.csv ]; then\n",
        "  wget -O intents.csv https://www.dropbox.com/s/smy3os4px8ionkx/atis_intents.csv?dl=0\n",
        "fi\n",
        "\n",
        "if [ ! -f glove.6B.100d.txt ]; then\n",
        "  wget -O glove.6B.100d.txt https://www.dropbox.com/s/dl1vswq2sz5f1ws/glove.6B.100d.txt?dl=0\n",
        "fi"
      ],
      "metadata": {
        "colab": {
          "base_uri": "https://localhost:8080/"
        },
        "id": "aHuUsDMlTXhM",
        "outputId": "28730563-c85c-475a-906b-c51c6def705a"
      },
      "execution_count": 6,
      "outputs": [
        {
          "output_type": "stream",
          "name": "stdout",
          "text": [
            "Writing get_data.sh\n"
          ]
        }
      ]
    },
    {
      "cell_type": "code",
      "source": [
        "!bash get_data.sh ~V\n"
      ],
      "metadata": {
        "id": "Uq4-oO3KTnbQ",
        "colab": {
          "base_uri": "https://localhost:8080/"
        },
        "outputId": "308fb6ea-1fa6-4f48-c11a-c68d517a5bf0"
      },
      "execution_count": 7,
      "outputs": [
        {
          "output_type": "stream",
          "name": "stdout",
          "text": [
            "--2024-09-08 15:10:16--  https://www.dropbox.com/s/smy3os4px8ionkx/atis_intents.csv?dl=0\n",
            "Resolving www.dropbox.com (www.dropbox.com)... 162.125.4.18, 2620:100:601d:18::a27d:512\n",
            "Connecting to www.dropbox.com (www.dropbox.com)|162.125.4.18|:443... connected.\n",
            "HTTP request sent, awaiting response... 302 Found\n",
            "Location: https://www.dropbox.com/scl/fi/q14e7vvqkjitlspbiygmj/atis_intents.csv?rlkey=uusatqo9tw8n6izc1uv7drb1g&dl=0 [following]\n",
            "--2024-09-08 15:10:16--  https://www.dropbox.com/scl/fi/q14e7vvqkjitlspbiygmj/atis_intents.csv?rlkey=uusatqo9tw8n6izc1uv7drb1g&dl=0\n",
            "Reusing existing connection to www.dropbox.com:443.\n",
            "HTTP request sent, awaiting response... 302 Found\n",
            "Location: https://uc303eebb7b24f0c1b07f85bb8f3.dl.dropboxusercontent.com/cd/0/inline/CaPmrZi0ha_cZE99rm63ACGwYg9f5o7RzmTMijlZZtSYG7vL8IouSq9qaJ0jTWTbzQPaiRbsrc0Kpo-zcdKLzwV9Txyle7AT_6PcmChhc81VD2yTVBxIBAE_qZgNJsv5MsoPA8DBY1pwfZQfVXp6hftV/file# [following]\n",
            "--2024-09-08 15:10:17--  https://uc303eebb7b24f0c1b07f85bb8f3.dl.dropboxusercontent.com/cd/0/inline/CaPmrZi0ha_cZE99rm63ACGwYg9f5o7RzmTMijlZZtSYG7vL8IouSq9qaJ0jTWTbzQPaiRbsrc0Kpo-zcdKLzwV9Txyle7AT_6PcmChhc81VD2yTVBxIBAE_qZgNJsv5MsoPA8DBY1pwfZQfVXp6hftV/file\n",
            "Resolving uc303eebb7b24f0c1b07f85bb8f3.dl.dropboxusercontent.com (uc303eebb7b24f0c1b07f85bb8f3.dl.dropboxusercontent.com)... 162.125.4.15, 2620:100:6019:15::a27d:40f\n",
            "Connecting to uc303eebb7b24f0c1b07f85bb8f3.dl.dropboxusercontent.com (uc303eebb7b24f0c1b07f85bb8f3.dl.dropboxusercontent.com)|162.125.4.15|:443... connected.\n",
            "HTTP request sent, awaiting response... 200 OK\n",
            "Length: 391936 (383K) [text/plain]\n",
            "Saving to: ‘intents.csv’\n",
            "\n",
            "intents.csv         100%[===================>] 382.75K  --.-KB/s    in 0.03s   \n",
            "\n",
            "2024-09-08 15:10:18 (11.0 MB/s) - ‘intents.csv’ saved [391936/391936]\n",
            "\n",
            "--2024-09-08 15:10:18--  https://www.dropbox.com/s/dl1vswq2sz5f1ws/glove.6B.100d.txt?dl=0\n",
            "Resolving www.dropbox.com (www.dropbox.com)... 162.125.4.18, 2620:100:601d:18::a27d:512\n",
            "Connecting to www.dropbox.com (www.dropbox.com)|162.125.4.18|:443... connected.\n",
            "HTTP request sent, awaiting response... 302 Found\n",
            "Location: https://www.dropbox.com/scl/fi/0kqdrs3rj5u3meoqxcwma/glove.6B.100d.txt?rlkey=cuvo7zh961fddbzgaujp02gwp&dl=0 [following]\n",
            "--2024-09-08 15:10:18--  https://www.dropbox.com/scl/fi/0kqdrs3rj5u3meoqxcwma/glove.6B.100d.txt?rlkey=cuvo7zh961fddbzgaujp02gwp&dl=0\n",
            "Reusing existing connection to www.dropbox.com:443.\n",
            "HTTP request sent, awaiting response... 302 Found\n",
            "Location: https://uc7da202c0dc7e619408c0a57a06.dl.dropboxusercontent.com/cd/0/inline/CaOKb9OwOUt_2rzPMZWIcRhjYq4WooJVcbC7-0o05AVntDhxtZBlOoA23l561IlmoOF_9mlPpgzEuBo7ZE6564OIdXEZAiDaFtgcu7-3_zsMCXmtPZd1X0b-r04p93urWVJceKxHQVDDxoRbqoB04b8Q/file# [following]\n",
            "--2024-09-08 15:10:19--  https://uc7da202c0dc7e619408c0a57a06.dl.dropboxusercontent.com/cd/0/inline/CaOKb9OwOUt_2rzPMZWIcRhjYq4WooJVcbC7-0o05AVntDhxtZBlOoA23l561IlmoOF_9mlPpgzEuBo7ZE6564OIdXEZAiDaFtgcu7-3_zsMCXmtPZd1X0b-r04p93urWVJceKxHQVDDxoRbqoB04b8Q/file\n",
            "Resolving uc7da202c0dc7e619408c0a57a06.dl.dropboxusercontent.com (uc7da202c0dc7e619408c0a57a06.dl.dropboxusercontent.com)... 162.125.4.15, 2620:100:6019:15::a27d:40f\n",
            "Connecting to uc7da202c0dc7e619408c0a57a06.dl.dropboxusercontent.com (uc7da202c0dc7e619408c0a57a06.dl.dropboxusercontent.com)|162.125.4.15|:443... connected.\n",
            "HTTP request sent, awaiting response... 200 OK\n",
            "Length: 347117594 (331M) [text/plain]\n",
            "Saving to: ‘glove.6B.100d.txt’\n",
            "\n",
            "glove.6B.100d.txt   100%[===================>] 331.04M  92.1MB/s    in 3.6s    \n",
            "\n",
            "2024-09-08 15:10:23 (92.1 MB/s) - ‘glove.6B.100d.txt’ saved [347117594/347117594]\n",
            "\n"
          ]
        }
      ]
    },
    {
      "cell_type": "markdown",
      "source": [
        "Let's inspect how this intents csv looks like"
      ],
      "metadata": {
        "id": "9vzvhu6Irw_O"
      }
    },
    {
      "cell_type": "code",
      "source": [
        "!head intents.csv"
      ],
      "metadata": {
        "colab": {
          "base_uri": "https://localhost:8080/"
        },
        "id": "p4IB-iA50ZUc",
        "outputId": "c271b69c-1d6d-4793-df3b-2b6185dd94b4"
      },
      "execution_count": null,
      "outputs": [
        {
          "output_type": "stream",
          "name": "stdout",
          "text": [
            "atis_flight, i want to fly from boston at 838 am and arrive in denver at 1110 in the morning\n",
            "atis_flight, what flights are available from pittsburgh to baltimore on thursday morning\n",
            "atis_flight_time, what is the arrival time in san francisco for the 755 am flight leaving washington\n",
            "atis_airfare, cheapest airfare from tacoma to orlando\n",
            "atis_airfare, round trip fares from pittsburgh to philadelphia under 1000 dollars\n",
            "atis_flight, i need a flight tomorrow from columbus to minneapolis\n",
            "atis_aircraft, what kind of aircraft is used on a flight from cleveland to dallas\n",
            "atis_flight, show me the flights from pittsburgh to los angeles on thursday\n",
            "atis_flight, all flights from boston to washington\n",
            "atis_ground_service, what kind of ground transportation is available in denver\n"
          ]
        }
      ]
    },
    {
      "cell_type": "code",
      "source": [
        "def preprocess_text(text, should_join=True):\n",
        "    text = ' '.join(str(word) for word in textblob_tokenizer(text))\n",
        "    text = re.sub(r\"([.,!?])\", r\" \\1 \", text)\n",
        "    text = re.sub(r\"[^a-zA-Z.,!?]+\", r\" \", text)\n",
        "    if should_join:\n",
        "      return ' '.join(gensim.utils.simple_preprocess(text))\n",
        "    else:\n",
        "      return gensim.utils.simple_preprocess(text)"
      ],
      "metadata": {
        "id": "CCXNQ8yT8AMn"
      },
      "execution_count": 9,
      "outputs": []
    },
    {
      "cell_type": "code",
      "source": [
        "path = './intents.csv'\n",
        "intents = pd.read_csv(path, header=None, names=[\"intent\", \"query\"])"
      ],
      "metadata": {
        "id": "i32aK_G6TZl9"
      },
      "execution_count": 11,
      "outputs": []
    },
    {
      "cell_type": "markdown",
      "source": [
        "Let's inspect the intents"
      ],
      "metadata": {
        "id": "gqQQj32QxDYf"
      }
    },
    {
      "cell_type": "code",
      "source": [
        "intents.intent.value_counts()"
      ],
      "metadata": {
        "colab": {
          "base_uri": "https://localhost:8080/",
          "height": 774
        },
        "id": "NGhouO2WvpqC",
        "outputId": "a1c54cbb-a24c-4a20-cf93-c6f903c1b850"
      },
      "execution_count": 12,
      "outputs": [
        {
          "output_type": "execute_result",
          "data": {
            "text/plain": [
              "atis_flight                                 3666\n",
              "atis_airfare                                 423\n",
              "atis_ground_service                          255\n",
              "atis_airline                                 157\n",
              "atis_abbreviation                            147\n",
              "atis_aircraft                                 81\n",
              "atis_flight_time                              54\n",
              "atis_quantity                                 51\n",
              "atis_flight#atis_airfare                      21\n",
              "atis_airport                                  20\n",
              "atis_distance                                 20\n",
              "atis_city                                     19\n",
              "atis_ground_fare                              18\n",
              "atis_capacity                                 16\n",
              "atis_flight_no                                12\n",
              "atis_meal                                      6\n",
              "atis_restriction                               6\n",
              "atis_airline#atis_flight_no                    2\n",
              "atis_ground_service#atis_ground_fare           1\n",
              "atis_airfare#atis_flight_time                  1\n",
              "atis_cheapest                                  1\n",
              "atis_aircraft#atis_flight#atis_flight_no       1\n",
              "Name: intent, dtype: int64"
            ],
            "text/html": [
              "<div>\n",
              "<style scoped>\n",
              "    .dataframe tbody tr th:only-of-type {\n",
              "        vertical-align: middle;\n",
              "    }\n",
              "\n",
              "    .dataframe tbody tr th {\n",
              "        vertical-align: top;\n",
              "    }\n",
              "\n",
              "    .dataframe thead th {\n",
              "        text-align: right;\n",
              "    }\n",
              "</style>\n",
              "<table border=\"1\" class=\"dataframe\">\n",
              "  <thead>\n",
              "    <tr style=\"text-align: right;\">\n",
              "      <th></th>\n",
              "      <th>intent</th>\n",
              "    </tr>\n",
              "  </thead>\n",
              "  <tbody>\n",
              "    <tr>\n",
              "      <th>atis_flight</th>\n",
              "      <td>3666</td>\n",
              "    </tr>\n",
              "    <tr>\n",
              "      <th>atis_airfare</th>\n",
              "      <td>423</td>\n",
              "    </tr>\n",
              "    <tr>\n",
              "      <th>atis_ground_service</th>\n",
              "      <td>255</td>\n",
              "    </tr>\n",
              "    <tr>\n",
              "      <th>atis_airline</th>\n",
              "      <td>157</td>\n",
              "    </tr>\n",
              "    <tr>\n",
              "      <th>atis_abbreviation</th>\n",
              "      <td>147</td>\n",
              "    </tr>\n",
              "    <tr>\n",
              "      <th>atis_aircraft</th>\n",
              "      <td>81</td>\n",
              "    </tr>\n",
              "    <tr>\n",
              "      <th>atis_flight_time</th>\n",
              "      <td>54</td>\n",
              "    </tr>\n",
              "    <tr>\n",
              "      <th>atis_quantity</th>\n",
              "      <td>51</td>\n",
              "    </tr>\n",
              "    <tr>\n",
              "      <th>atis_flight#atis_airfare</th>\n",
              "      <td>21</td>\n",
              "    </tr>\n",
              "    <tr>\n",
              "      <th>atis_airport</th>\n",
              "      <td>20</td>\n",
              "    </tr>\n",
              "    <tr>\n",
              "      <th>atis_distance</th>\n",
              "      <td>20</td>\n",
              "    </tr>\n",
              "    <tr>\n",
              "      <th>atis_city</th>\n",
              "      <td>19</td>\n",
              "    </tr>\n",
              "    <tr>\n",
              "      <th>atis_ground_fare</th>\n",
              "      <td>18</td>\n",
              "    </tr>\n",
              "    <tr>\n",
              "      <th>atis_capacity</th>\n",
              "      <td>16</td>\n",
              "    </tr>\n",
              "    <tr>\n",
              "      <th>atis_flight_no</th>\n",
              "      <td>12</td>\n",
              "    </tr>\n",
              "    <tr>\n",
              "      <th>atis_meal</th>\n",
              "      <td>6</td>\n",
              "    </tr>\n",
              "    <tr>\n",
              "      <th>atis_restriction</th>\n",
              "      <td>6</td>\n",
              "    </tr>\n",
              "    <tr>\n",
              "      <th>atis_airline#atis_flight_no</th>\n",
              "      <td>2</td>\n",
              "    </tr>\n",
              "    <tr>\n",
              "      <th>atis_ground_service#atis_ground_fare</th>\n",
              "      <td>1</td>\n",
              "    </tr>\n",
              "    <tr>\n",
              "      <th>atis_airfare#atis_flight_time</th>\n",
              "      <td>1</td>\n",
              "    </tr>\n",
              "    <tr>\n",
              "      <th>atis_cheapest</th>\n",
              "      <td>1</td>\n",
              "    </tr>\n",
              "    <tr>\n",
              "      <th>atis_aircraft#atis_flight#atis_flight_no</th>\n",
              "      <td>1</td>\n",
              "    </tr>\n",
              "  </tbody>\n",
              "</table>\n",
              "</div><br><label><b>dtype:</b> int64</label>"
            ]
          },
          "metadata": {},
          "execution_count": 12
        }
      ]
    },
    {
      "cell_type": "markdown",
      "source": [
        "Let's filter the rows with a rare intent since we will not be able to predict it neverthenless"
      ],
      "metadata": {
        "id": "cP4_-3ezxFM6"
      }
    },
    {
      "cell_type": "code",
      "source": [
        "intents_filtered = intents.groupby('intent').filter(lambda x: len(x) >= 15).reset_index()\n",
        "print(f\" Eliminitaded records: {intents.shape[0]-intents_filtered.shape[0]}\")"
      ],
      "metadata": {
        "id": "Nr58BnYEw0eH",
        "colab": {
          "base_uri": "https://localhost:8080/"
        },
        "outputId": "2f07f5a0-7b0a-49a5-f227-7c71a3bd027c"
      },
      "execution_count": 13,
      "outputs": [
        {
          "output_type": "stream",
          "name": "stdout",
          "text": [
            " Eliminitaded records: 30\n"
          ]
        }
      ]
    },
    {
      "cell_type": "code",
      "source": [
        "X = intents_filtered['query']\n",
        "y = intents_filtered.intent\n"
      ],
      "metadata": {
        "id": "kLf4fI_qvnpb"
      },
      "execution_count": 14,
      "outputs": []
    },
    {
      "cell_type": "markdown",
      "source": [
        "If we inspect y, now we need to transform it into a one hot representation!"
      ],
      "metadata": {
        "id": "Xc7ZSCE4xZs0"
      }
    },
    {
      "cell_type": "markdown",
      "source": [
        "## Creating the corpus and tokenizing"
      ],
      "metadata": {
        "id": "TXLqIHnNWYMN"
      }
    },
    {
      "cell_type": "code",
      "source": [
        "corpus_with_ix = [(ix, preprocess_text(sentence, should_join = True)) for ix, sentence in X.iteritems() if type(sentence) == str and len(textblob_tokenizer(sentence)) > 3]\n"
      ],
      "metadata": {
        "id": "MebwtE3DH0Qu"
      },
      "execution_count": 15,
      "outputs": []
    },
    {
      "cell_type": "code",
      "source": [
        "corpus_with_ix[0]"
      ],
      "metadata": {
        "id": "1pjd3cYbI-ib",
        "colab": {
          "base_uri": "https://localhost:8080/"
        },
        "outputId": "7ccb7ebd-4549-488a-ca48-e4f64dd212b9"
      },
      "execution_count": 16,
      "outputs": [
        {
          "output_type": "execute_result",
          "data": {
            "text/plain": [
              "(0, 'want to fly from boston at am and arrive in denver at in the morning')"
            ]
          },
          "metadata": {},
          "execution_count": 16
        }
      ]
    },
    {
      "cell_type": "code",
      "source": [
        "corpus_df = pd.DataFrame(corpus_with_ix, columns=['index', 'text'])"
      ],
      "metadata": {
        "id": "r2jN-duFXT7-"
      },
      "execution_count": 17,
      "outputs": []
    },
    {
      "cell_type": "code",
      "source": [
        "corpus_df.shape"
      ],
      "metadata": {
        "id": "bt5YXTj6Xft6",
        "colab": {
          "base_uri": "https://localhost:8080/"
        },
        "outputId": "a0b3caaa-d1cc-411c-b1c9-3986348aac20"
      },
      "execution_count": 18,
      "outputs": [
        {
          "output_type": "execute_result",
          "data": {
            "text/plain": [
              "(4871, 2)"
            ]
          },
          "metadata": {},
          "execution_count": 18
        }
      ]
    },
    {
      "cell_type": "code",
      "source": [
        "y_filtered = y[corpus_df['index']]"
      ],
      "metadata": {
        "id": "od6DxRRZJUMf"
      },
      "execution_count": 19,
      "outputs": []
    },
    {
      "cell_type": "code",
      "source": [
        "def get_corpus(corpus_df):\n",
        "  corpus=[]\n",
        "  max_review_length=0\n",
        "\n",
        "  for ix, sentence in corpus_with_ix:\n",
        "    proc_sentence=preprocess_text(sentence, should_join=False)\n",
        "\n",
        "    if len(proc_sentence) > max_review_length:\n",
        "      max_review_length = len(proc_sentence)\n",
        "\n",
        "    corpus.append(proc_sentence)\n",
        "\n",
        "  return corpus, max_review_length\n"
      ],
      "metadata": {
        "id": "bWV2wVBxJuaZ"
      },
      "execution_count": 20,
      "outputs": []
    },
    {
      "cell_type": "code",
      "source": [
        "corpus,max_review_length = get_corpus(corpus_df)"
      ],
      "metadata": {
        "id": "fAQ1wVIScTYK"
      },
      "execution_count": 21,
      "outputs": []
    },
    {
      "cell_type": "code",
      "source": [
        "tokenizer = Tokenizer()\n",
        "tokenizer.fit_on_texts(corpus)\n",
        "tokenized_corpus = tokenizer.texts_to_sequences(corpus)\n",
        "nb_samples = sum(len(s) for s in corpus)\n",
        "vocab_size = len(tokenizer.word_index) + 1\n",
        "vocab_size"
      ],
      "metadata": {
        "colab": {
          "base_uri": "https://localhost:8080/"
        },
        "id": "_n0UprBVdrUY",
        "outputId": "7b866580-0f4e-4408-ed2d-10314a7a198b"
      },
      "execution_count": 22,
      "outputs": [
        {
          "output_type": "execute_result",
          "data": {
            "text/plain": [
              "698"
            ]
          },
          "metadata": {},
          "execution_count": 22
        }
      ]
    },
    {
      "cell_type": "code",
      "source": [
        "final_X = np.zeros((len(tokenized_corpus), max_review_length))\n",
        "for ix, tokenized_sentence in enumerate(tokenized_corpus):\n",
        "    tokenized_sentence.extend([0]*(max_review_length-len(tokenized_sentence)))\n",
        "    final_X[ix] = tokenized_sentence"
      ],
      "metadata": {
        "id": "odthjkKXmTWI"
      },
      "execution_count": 23,
      "outputs": []
    },
    {
      "cell_type": "markdown",
      "source": [
        "Since y_filtered (and y) have many text values, we need to map each intent into a number. We will use the `pd.factorize` method for that."
      ],
      "metadata": {
        "id": "EDQjLfLn9GPw"
      }
    },
    {
      "cell_type": "code",
      "source": [
        "y_factorized, level_intents = pd.factorize(y_filtered)"
      ],
      "metadata": {
        "id": "LFxJh8mG9EWc"
      },
      "execution_count": 24,
      "outputs": []
    },
    {
      "cell_type": "markdown",
      "source": [
        "## Creating the embedding matrix"
      ],
      "metadata": {
        "id": "NnzCLuSZ07Qg"
      }
    },
    {
      "cell_type": "markdown",
      "source": [
        "This is the same part, we will construct an embedding matrix that maps each word in the tokenizer (via the ID it gets in the dataset) to the GloVe 100 dimensional representation of that word. This will be the input to the Embedding layer."
      ],
      "metadata": {
        "id": "UUAv_aDdr7VD"
      }
    },
    {
      "cell_type": "code",
      "source": [
        "path_to_glove_file = \"./glove.6B.100d.txt\"\n",
        "embeddings_index = {}\n",
        "\n",
        "with open(path_to_glove_file) as f:\n",
        "    for line in f:\n",
        "        word, coefs = line.split(maxsplit=1)\n",
        "        coefs = np.fromstring(coefs, \"f\", sep=\" \")\n",
        "        embeddings_index[word] = coefs\n",
        "\n",
        "print(f\"Found {len(embeddings_index)} word vectors\")"
      ],
      "metadata": {
        "colab": {
          "base_uri": "https://localhost:8080/"
        },
        "id": "VWvoLMT_mONi",
        "outputId": "d5d8345d-5ea5-4dfc-9903-2ca8ca7d749a"
      },
      "execution_count": 25,
      "outputs": [
        {
          "output_type": "stream",
          "name": "stdout",
          "text": [
            "Found 400001 word vectors\n"
          ]
        }
      ]
    },
    {
      "cell_type": "code",
      "source": [
        "lembedding_dim = 100\n",
        "num_tokens = vocab_size + 1\n",
        "hits = 0\n",
        "misses = 0\n",
        "\n",
        "# Prepare embedding matrix\n",
        "embedding_matrix = np.zeros((num_tokens, embedding_dim))\n",
        "\n",
        "for word, i in tokenizer.word_index.items():\n",
        "    embedding_vector = embeddings_index.get(word)\n",
        "    if embedding_vector is not None:\n",
        "        # Words not found in embedding index will be all-zeros.\n",
        "        # This includes the representation for \"padding\" and \"OOV\"\n",
        "        embedding_matrix[i] = embedding_vector\n",
        "        hits += 1\n",
        "    else:\n",
        "        misses += 1\n",
        "print(f\"Converted {hits} words {misses}\")"
      ],
      "metadata": {
        "colab": {
          "base_uri": "https://localhost:8080/"
        },
        "id": "y_cy91zwmOQH",
        "outputId": "e8285ec7-40a6-458b-988c-c444af0647b3"
      },
      "execution_count": 26,
      "outputs": [
        {
          "output_type": "stream",
          "name": "stdout",
          "text": [
            "Converted 696 words 1\n"
          ]
        }
      ]
    },
    {
      "cell_type": "markdown",
      "source": [
        "## Doing the train_test split and defining model"
      ],
      "metadata": {
        "id": "quWimVZjbemw"
      }
    },
    {
      "cell_type": "code",
      "source": [
        "from sklearn.model_selection import train_test_split\n",
        "X_train, X_test, y_train, y_test = train_test_split(final_X, y_factorized, test_size = 0.3, random_state=42)"
      ],
      "metadata": {
        "id": "gPK5YmDMTbby"
      },
      "execution_count": 27,
      "outputs": []
    },
    {
      "cell_type": "code",
      "source": [
        "X_train_tensor = tf.constant(X_train)\n",
        "X_test_tensor = tf.constant(X_test)\n",
        "y_train_tensor = tf.one_hot(tf.constant(y_train), len(level_intents))\n",
        "y_test_tensor = tf.one_hot(tf.constant(y_test), len(level_intents))"
      ],
      "metadata": {
        "id": "SwdtffgTVRM0"
      },
      "execution_count": 28,
      "outputs": []
    },
    {
      "cell_type": "code",
      "source": [
        "X_train_tensor[0]"
      ],
      "metadata": {
        "colab": {
          "base_uri": "https://localhost:8080/"
        },
        "id": "dKtaWNEtQP9U",
        "outputId": "022d88fe-df61-4904-c042-8609aea6f60e"
      },
      "execution_count": 34,
      "outputs": [
        {
          "output_type": "execute_result",
          "data": {
            "text/plain": [
              "<tf.Tensor: shape=(43,), dtype=float64, numpy=\n",
              "array([14., 16., 36., 23., 82.,  5., 47., 52.,  0.,  0.,  0.,  0.,  0.,\n",
              "        0.,  0.,  0.,  0.,  0.,  0.,  0.,  0.,  0.,  0.,  0.,  0.,  0.,\n",
              "        0.,  0.,  0.,  0.,  0.,  0.,  0.,  0.,  0.,  0.,  0.,  0.,  0.,\n",
              "        0.,  0.,  0.,  0.])>"
            ]
          },
          "metadata": {},
          "execution_count": 34
        }
      ]
    },
    {
      "cell_type": "markdown",
      "source": [
        "Notice that our y has many values, we need to use `tf.one_hot` to convert it to the corresponding input to the loss function"
      ],
      "metadata": {
        "id": "3iSfi7vJDv3R"
      }
    },
    {
      "cell_type": "code",
      "source": [
        "print(f\"\"\"X_train shape: {X_train_tensor.shape}, X_test shape: {X_test_tensor.shape}, y_train shape: {y_train.shape}, y_test shape: {y_test.shape}\"\"\")"
      ],
      "metadata": {
        "id": "zzQA9t3JdlGO",
        "colab": {
          "base_uri": "https://localhost:8080/"
        },
        "outputId": "066d1bfb-b394-4d89-adc7-07445de6744f"
      },
      "execution_count": 32,
      "outputs": [
        {
          "output_type": "stream",
          "name": "stdout",
          "text": [
            "X_train shape: (3409, 43), X_test shape: (1462, 43), y_train shape: (3409,), y_test shape: (1462,)\n"
          ]
        }
      ]
    },
    {
      "cell_type": "markdown",
      "source": [
        "Now we have the key step, we will set the output neurons to be the amount of intents, with softmax as activation. Therefore this model will predict probabilities that each input inquiry is of certain classes"
      ],
      "metadata": {
        "id": "6ZRw6Ttrsp53"
      }
    },
    {
      "cell_type": "code",
      "source": [
        "model = Sequential()\n",
        "model.add(Embedding(input_dim=embedding_matrix.shape[0],output_dim=embedding_matrix.shape[1], input_length=max_review_length, embeddings_initializer=Constant(embedding_matrix), trainable=False))\n",
        "model.add(Dense(100, activation=leaky_relu))\n",
        "model.add(Dense(50, activation=leaky_relu))\n",
        "model.add(Lambda(lambda x: K.mean(x, axis=1)))\n",
        "model.add(Dense(50, activation=leaky_relu))\n",
        "model.add(Dense(len(level_intents), activation='softmax'))"
      ],
      "metadata": {
        "id": "9ySCH6VsVNTa"
      },
      "execution_count": 60,
      "outputs": []
    },
    {
      "cell_type": "code",
      "source": [
        "model.compile(optimizer='adam', loss=tf.keras.losses.CategoricalCrossentropy(), metrics=[\"accuracy\", tf.keras.metrics.Precision(name='precision'), tf.keras.metrics.Recall(name='recall')])\n",
        "model.summary() # model summary shows output after fit."
      ],
      "metadata": {
        "id": "MDd6hnQhVnOR",
        "colab": {
          "base_uri": "https://localhost:8080/",
          "height": 321
        },
        "outputId": "81a69403-08f4-4d46-b594-2068617c69c4"
      },
      "execution_count": 63,
      "outputs": [
        {
          "output_type": "display_data",
          "data": {
            "text/plain": [
              "\u001b[1mModel: \"sequential_3\"\u001b[0m\n"
            ],
            "text/html": [
              "<pre style=\"white-space:pre;overflow-x:auto;line-height:normal;font-family:Menlo,'DejaVu Sans Mono',consolas,'Courier New',monospace\"><span style=\"font-weight: bold\">Model: \"sequential_3\"</span>\n",
              "</pre>\n"
            ]
          },
          "metadata": {}
        },
        {
          "output_type": "display_data",
          "data": {
            "text/plain": [
              "┏━━━━━━━━━━━━━━━━━━━━━━━━━━━━━━━━━━━━━━┳━━━━━━━━━━━━━━━━━━━━━━━━━━━━━┳━━━━━━━━━━━━━━━━━┓\n",
              "┃\u001b[1m \u001b[0m\u001b[1mLayer (type)                        \u001b[0m\u001b[1m \u001b[0m┃\u001b[1m \u001b[0m\u001b[1mOutput Shape               \u001b[0m\u001b[1m \u001b[0m┃\u001b[1m \u001b[0m\u001b[1m        Param #\u001b[0m\u001b[1m \u001b[0m┃\n",
              "┡━━━━━━━━━━━━━━━━━━━━━━━━━━━━━━━━━━━━━━╇━━━━━━━━━━━━━━━━━━━━━━━━━━━━━╇━━━━━━━━━━━━━━━━━┩\n",
              "│ embedding_3 (\u001b[38;5;33mEmbedding\u001b[0m)              │ (\u001b[38;5;45mNone\u001b[0m, \u001b[38;5;34m43\u001b[0m, \u001b[38;5;34m100\u001b[0m)             │          \u001b[38;5;34m69,900\u001b[0m │\n",
              "├──────────────────────────────────────┼─────────────────────────────┼─────────────────┤\n",
              "│ dense_12 (\u001b[38;5;33mDense\u001b[0m)                     │ (\u001b[38;5;45mNone\u001b[0m, \u001b[38;5;34m43\u001b[0m, \u001b[38;5;34m100\u001b[0m)             │          \u001b[38;5;34m10,100\u001b[0m │\n",
              "├──────────────────────────────────────┼─────────────────────────────┼─────────────────┤\n",
              "│ dense_13 (\u001b[38;5;33mDense\u001b[0m)                     │ (\u001b[38;5;45mNone\u001b[0m, \u001b[38;5;34m43\u001b[0m, \u001b[38;5;34m50\u001b[0m)              │           \u001b[38;5;34m5,050\u001b[0m │\n",
              "├──────────────────────────────────────┼─────────────────────────────┼─────────────────┤\n",
              "│ lambda_3 (\u001b[38;5;33mLambda\u001b[0m)                    │ (\u001b[38;5;45mNone\u001b[0m, \u001b[38;5;34m50\u001b[0m)                  │               \u001b[38;5;34m0\u001b[0m │\n",
              "├──────────────────────────────────────┼─────────────────────────────┼─────────────────┤\n",
              "│ dense_14 (\u001b[38;5;33mDense\u001b[0m)                     │ (\u001b[38;5;45mNone\u001b[0m, \u001b[38;5;34m50\u001b[0m)                  │           \u001b[38;5;34m2,550\u001b[0m │\n",
              "├──────────────────────────────────────┼─────────────────────────────┼─────────────────┤\n",
              "│ dense_15 (\u001b[38;5;33mDense\u001b[0m)                     │ (\u001b[38;5;45mNone\u001b[0m, \u001b[38;5;34m14\u001b[0m)                  │             \u001b[38;5;34m714\u001b[0m │\n",
              "└──────────────────────────────────────┴─────────────────────────────┴─────────────────┘\n"
            ],
            "text/html": [
              "<pre style=\"white-space:pre;overflow-x:auto;line-height:normal;font-family:Menlo,'DejaVu Sans Mono',consolas,'Courier New',monospace\">┏━━━━━━━━━━━━━━━━━━━━━━━━━━━━━━━━━━━━━━┳━━━━━━━━━━━━━━━━━━━━━━━━━━━━━┳━━━━━━━━━━━━━━━━━┓\n",
              "┃<span style=\"font-weight: bold\"> Layer (type)                         </span>┃<span style=\"font-weight: bold\"> Output Shape                </span>┃<span style=\"font-weight: bold\">         Param # </span>┃\n",
              "┡━━━━━━━━━━━━━━━━━━━━━━━━━━━━━━━━━━━━━━╇━━━━━━━━━━━━━━━━━━━━━━━━━━━━━╇━━━━━━━━━━━━━━━━━┩\n",
              "│ embedding_3 (<span style=\"color: #0087ff; text-decoration-color: #0087ff\">Embedding</span>)              │ (<span style=\"color: #00d7ff; text-decoration-color: #00d7ff\">None</span>, <span style=\"color: #00af00; text-decoration-color: #00af00\">43</span>, <span style=\"color: #00af00; text-decoration-color: #00af00\">100</span>)             │          <span style=\"color: #00af00; text-decoration-color: #00af00\">69,900</span> │\n",
              "├──────────────────────────────────────┼─────────────────────────────┼─────────────────┤\n",
              "│ dense_12 (<span style=\"color: #0087ff; text-decoration-color: #0087ff\">Dense</span>)                     │ (<span style=\"color: #00d7ff; text-decoration-color: #00d7ff\">None</span>, <span style=\"color: #00af00; text-decoration-color: #00af00\">43</span>, <span style=\"color: #00af00; text-decoration-color: #00af00\">100</span>)             │          <span style=\"color: #00af00; text-decoration-color: #00af00\">10,100</span> │\n",
              "├──────────────────────────────────────┼─────────────────────────────┼─────────────────┤\n",
              "│ dense_13 (<span style=\"color: #0087ff; text-decoration-color: #0087ff\">Dense</span>)                     │ (<span style=\"color: #00d7ff; text-decoration-color: #00d7ff\">None</span>, <span style=\"color: #00af00; text-decoration-color: #00af00\">43</span>, <span style=\"color: #00af00; text-decoration-color: #00af00\">50</span>)              │           <span style=\"color: #00af00; text-decoration-color: #00af00\">5,050</span> │\n",
              "├──────────────────────────────────────┼─────────────────────────────┼─────────────────┤\n",
              "│ lambda_3 (<span style=\"color: #0087ff; text-decoration-color: #0087ff\">Lambda</span>)                    │ (<span style=\"color: #00d7ff; text-decoration-color: #00d7ff\">None</span>, <span style=\"color: #00af00; text-decoration-color: #00af00\">50</span>)                  │               <span style=\"color: #00af00; text-decoration-color: #00af00\">0</span> │\n",
              "├──────────────────────────────────────┼─────────────────────────────┼─────────────────┤\n",
              "│ dense_14 (<span style=\"color: #0087ff; text-decoration-color: #0087ff\">Dense</span>)                     │ (<span style=\"color: #00d7ff; text-decoration-color: #00d7ff\">None</span>, <span style=\"color: #00af00; text-decoration-color: #00af00\">50</span>)                  │           <span style=\"color: #00af00; text-decoration-color: #00af00\">2,550</span> │\n",
              "├──────────────────────────────────────┼─────────────────────────────┼─────────────────┤\n",
              "│ dense_15 (<span style=\"color: #0087ff; text-decoration-color: #0087ff\">Dense</span>)                     │ (<span style=\"color: #00d7ff; text-decoration-color: #00d7ff\">None</span>, <span style=\"color: #00af00; text-decoration-color: #00af00\">14</span>)                  │             <span style=\"color: #00af00; text-decoration-color: #00af00\">714</span> │\n",
              "└──────────────────────────────────────┴─────────────────────────────┴─────────────────┘\n",
              "</pre>\n"
            ]
          },
          "metadata": {}
        },
        {
          "output_type": "display_data",
          "data": {
            "text/plain": [
              "\u001b[1m Total params: \u001b[0m\u001b[38;5;34m88,314\u001b[0m (344.98 KB)\n"
            ],
            "text/html": [
              "<pre style=\"white-space:pre;overflow-x:auto;line-height:normal;font-family:Menlo,'DejaVu Sans Mono',consolas,'Courier New',monospace\"><span style=\"font-weight: bold\"> Total params: </span><span style=\"color: #00af00; text-decoration-color: #00af00\">88,314</span> (344.98 KB)\n",
              "</pre>\n"
            ]
          },
          "metadata": {}
        },
        {
          "output_type": "display_data",
          "data": {
            "text/plain": [
              "\u001b[1m Trainable params: \u001b[0m\u001b[38;5;34m18,414\u001b[0m (71.93 KB)\n"
            ],
            "text/html": [
              "<pre style=\"white-space:pre;overflow-x:auto;line-height:normal;font-family:Menlo,'DejaVu Sans Mono',consolas,'Courier New',monospace\"><span style=\"font-weight: bold\"> Trainable params: </span><span style=\"color: #00af00; text-decoration-color: #00af00\">18,414</span> (71.93 KB)\n",
              "</pre>\n"
            ]
          },
          "metadata": {}
        },
        {
          "output_type": "display_data",
          "data": {
            "text/plain": [
              "\u001b[1m Non-trainable params: \u001b[0m\u001b[38;5;34m69,900\u001b[0m (273.05 KB)\n"
            ],
            "text/html": [
              "<pre style=\"white-space:pre;overflow-x:auto;line-height:normal;font-family:Menlo,'DejaVu Sans Mono',consolas,'Courier New',monospace\"><span style=\"font-weight: bold\"> Non-trainable params: </span><span style=\"color: #00af00; text-decoration-color: #00af00\">69,900</span> (273.05 KB)\n",
              "</pre>\n"
            ]
          },
          "metadata": {}
        }
      ]
    },
    {
      "cell_type": "markdown",
      "source": [
        "Notice the non-trainable parameters"
      ],
      "metadata": {
        "id": "L5qOpTaAtK7V"
      }
    },
    {
      "cell_type": "code",
      "source": [
        "callback = tf.keras.callbacks.EarlyStopping(monitor='val_precision', patience=10, min_delta=0.01, mode=\"max\")\n",
        "history = model.fit(X_train_tensor, y_train_tensor, epochs = 30, validation_split=0.2, callbacks=[callback])"
      ],
      "metadata": {
        "id": "UcAZECDkf-2B",
        "colab": {
          "base_uri": "https://localhost:8080/"
        },
        "outputId": "daf82d90-bd5e-4b86-82a6-188f131bbf1e"
      },
      "execution_count": 62,
      "outputs": [
        {
          "output_type": "stream",
          "name": "stdout",
          "text": [
            "Epoch 1/30\n",
            "\u001b[1m86/86\u001b[0m \u001b[32m━━━━━━━━━━━━━━━━━━━━\u001b[0m\u001b[37m\u001b[0m \u001b[1m4s\u001b[0m 14ms/step - accuracy: 0.6972 - loss: 1.6724 - precision: 0.6515 - recall: 0.3344 - val_accuracy: 0.7669 - val_loss: 0.9851 - val_precision: 0.8070 - val_recall: 0.7419\n",
            "Epoch 2/30\n",
            "\u001b[1m86/86\u001b[0m \u001b[32m━━━━━━━━━━━━━━━━━━━━\u001b[0m\u001b[37m\u001b[0m \u001b[1m1s\u001b[0m 9ms/step - accuracy: 0.7335 - loss: 1.0037 - precision: 0.7978 - recall: 0.7231 - val_accuracy: 0.7683 - val_loss: 0.8285 - val_precision: 0.8540 - val_recall: 0.7463\n",
            "Epoch 3/30\n",
            "\u001b[1m86/86\u001b[0m \u001b[32m━━━━━━━━━━━━━━━━━━━━\u001b[0m\u001b[37m\u001b[0m \u001b[1m1s\u001b[0m 11ms/step - accuracy: 0.7480 - loss: 0.8471 - precision: 0.8541 - recall: 0.7117 - val_accuracy: 0.8021 - val_loss: 0.7365 - val_precision: 0.9047 - val_recall: 0.7375\n",
            "Epoch 4/30\n",
            "\u001b[1m86/86\u001b[0m \u001b[32m━━━━━━━━━━━━━━━━━━━━\u001b[0m\u001b[37m\u001b[0m \u001b[1m1s\u001b[0m 14ms/step - accuracy: 0.8044 - loss: 0.7100 - precision: 0.9008 - recall: 0.7257 - val_accuracy: 0.8284 - val_loss: 0.6530 - val_precision: 0.8960 - val_recall: 0.7581\n",
            "Epoch 5/30\n",
            "\u001b[1m86/86\u001b[0m \u001b[32m━━━━━━━━━━━━━━━━━━━━\u001b[0m\u001b[37m\u001b[0m \u001b[1m4s\u001b[0m 29ms/step - accuracy: 0.8532 - loss: 0.5966 - precision: 0.9187 - recall: 0.7834 - val_accuracy: 0.8446 - val_loss: 0.5698 - val_precision: 0.9101 - val_recall: 0.8021\n",
            "Epoch 6/30\n",
            "\u001b[1m86/86\u001b[0m \u001b[32m━━━━━━━━━━━━━━━━━━━━\u001b[0m\u001b[37m\u001b[0m \u001b[1m3s\u001b[0m 40ms/step - accuracy: 0.8654 - loss: 0.5116 - precision: 0.9219 - recall: 0.8296 - val_accuracy: 0.8607 - val_loss: 0.5134 - val_precision: 0.9110 - val_recall: 0.8109\n",
            "Epoch 7/30\n",
            "\u001b[1m86/86\u001b[0m \u001b[32m━━━━━━━━━━━━━━━━━━━━\u001b[0m\u001b[37m\u001b[0m \u001b[1m4s\u001b[0m 32ms/step - accuracy: 0.8770 - loss: 0.4479 - precision: 0.9239 - recall: 0.8454 - val_accuracy: 0.8666 - val_loss: 0.4771 - val_precision: 0.9195 - val_recall: 0.8211\n",
            "Epoch 8/30\n",
            "\u001b[1m86/86\u001b[0m \u001b[32m━━━━━━━━━━━━━━━━━━━━\u001b[0m\u001b[37m\u001b[0m \u001b[1m4s\u001b[0m 16ms/step - accuracy: 0.8872 - loss: 0.4034 - precision: 0.9320 - recall: 0.8501 - val_accuracy: 0.8842 - val_loss: 0.4356 - val_precision: 0.9221 - val_recall: 0.8328\n",
            "Epoch 9/30\n",
            "\u001b[1m86/86\u001b[0m \u001b[32m━━━━━━━━━━━━━━━━━━━━\u001b[0m\u001b[37m\u001b[0m \u001b[1m1s\u001b[0m 15ms/step - accuracy: 0.9002 - loss: 0.3668 - precision: 0.9319 - recall: 0.8588 - val_accuracy: 0.8930 - val_loss: 0.4106 - val_precision: 0.9249 - val_recall: 0.8490\n",
            "Epoch 10/30\n",
            "\u001b[1m86/86\u001b[0m \u001b[32m━━━━━━━━━━━━━━━━━━━━\u001b[0m\u001b[37m\u001b[0m \u001b[1m2s\u001b[0m 9ms/step - accuracy: 0.9047 - loss: 0.3396 - precision: 0.9319 - recall: 0.8702 - val_accuracy: 0.9018 - val_loss: 0.3834 - val_precision: 0.9231 - val_recall: 0.8622\n",
            "Epoch 11/30\n",
            "\u001b[1m86/86\u001b[0m \u001b[32m━━━━━━━━━━━━━━━━━━━━\u001b[0m\u001b[37m\u001b[0m \u001b[1m1s\u001b[0m 8ms/step - accuracy: 0.9117 - loss: 0.3145 - precision: 0.9354 - recall: 0.8829 - val_accuracy: 0.9018 - val_loss: 0.3618 - val_precision: 0.9241 - val_recall: 0.8754\n",
            "Epoch 12/30\n",
            "\u001b[1m86/86\u001b[0m \u001b[32m━━━━━━━━━━━━━━━━━━━━\u001b[0m\u001b[37m\u001b[0m \u001b[1m2s\u001b[0m 13ms/step - accuracy: 0.9155 - loss: 0.2929 - precision: 0.9378 - recall: 0.8913 - val_accuracy: 0.9018 - val_loss: 0.3472 - val_precision: 0.9289 - val_recall: 0.8812\n",
            "Epoch 13/30\n",
            "\u001b[1m86/86\u001b[0m \u001b[32m━━━━━━━━━━━━━━━━━━━━\u001b[0m\u001b[37m\u001b[0m \u001b[1m1s\u001b[0m 13ms/step - accuracy: 0.9224 - loss: 0.2745 - precision: 0.9412 - recall: 0.9013 - val_accuracy: 0.9076 - val_loss: 0.3316 - val_precision: 0.9309 - val_recall: 0.8886\n",
            "Epoch 14/30\n",
            "\u001b[1m86/86\u001b[0m \u001b[32m━━━━━━━━━━━━━━━━━━━━\u001b[0m\u001b[37m\u001b[0m \u001b[1m1s\u001b[0m 14ms/step - accuracy: 0.9278 - loss: 0.2581 - precision: 0.9444 - recall: 0.9072 - val_accuracy: 0.9120 - val_loss: 0.3204 - val_precision: 0.9314 - val_recall: 0.8959\n",
            "Epoch 15/30\n",
            "\u001b[1m86/86\u001b[0m \u001b[32m━━━━━━━━━━━━━━━━━━━━\u001b[0m\u001b[37m\u001b[0m \u001b[1m1s\u001b[0m 15ms/step - accuracy: 0.9289 - loss: 0.2433 - precision: 0.9451 - recall: 0.9146 - val_accuracy: 0.9150 - val_loss: 0.3134 - val_precision: 0.9316 - val_recall: 0.8988\n",
            "Epoch 16/30\n",
            "\u001b[1m86/86\u001b[0m \u001b[32m━━━━━━━━━━━━━━━━━━━━\u001b[0m\u001b[37m\u001b[0m \u001b[1m2s\u001b[0m 9ms/step - accuracy: 0.9324 - loss: 0.2302 - precision: 0.9480 - recall: 0.9200 - val_accuracy: 0.9164 - val_loss: 0.3040 - val_precision: 0.9330 - val_recall: 0.8988\n",
            "Epoch 17/30\n",
            "\u001b[1m86/86\u001b[0m \u001b[32m━━━━━━━━━━━━━━━━━━━━\u001b[0m\u001b[37m\u001b[0m \u001b[1m1s\u001b[0m 9ms/step - accuracy: 0.9360 - loss: 0.2173 - precision: 0.9498 - recall: 0.9241 - val_accuracy: 0.9164 - val_loss: 0.2997 - val_precision: 0.9331 - val_recall: 0.9003\n",
            "Epoch 18/30\n",
            "\u001b[1m86/86\u001b[0m \u001b[32m━━━━━━━━━━━━━━━━━━━━\u001b[0m\u001b[37m\u001b[0m \u001b[1m1s\u001b[0m 8ms/step - accuracy: 0.9387 - loss: 0.2065 - precision: 0.9521 - recall: 0.9276 - val_accuracy: 0.9179 - val_loss: 0.2938 - val_precision: 0.9318 - val_recall: 0.9018\n",
            "Epoch 19/30\n",
            "\u001b[1m86/86\u001b[0m \u001b[32m━━━━━━━━━━━━━━━━━━━━\u001b[0m\u001b[37m\u001b[0m \u001b[1m1s\u001b[0m 8ms/step - accuracy: 0.9414 - loss: 0.1958 - precision: 0.9588 - recall: 0.9320 - val_accuracy: 0.9164 - val_loss: 0.2905 - val_precision: 0.9306 - val_recall: 0.9047\n",
            "Epoch 20/30\n",
            "\u001b[1m86/86\u001b[0m \u001b[32m━━━━━━━━━━━━━━━━━━━━\u001b[0m\u001b[37m\u001b[0m \u001b[1m1s\u001b[0m 9ms/step - accuracy: 0.9428 - loss: 0.1868 - precision: 0.9621 - recall: 0.9363 - val_accuracy: 0.9194 - val_loss: 0.2880 - val_precision: 0.9309 - val_recall: 0.9091\n",
            "Epoch 21/30\n",
            "\u001b[1m86/86\u001b[0m \u001b[32m━━━━━━━━━━━━━━━━━━━━\u001b[0m\u001b[37m\u001b[0m \u001b[1m1s\u001b[0m 8ms/step - accuracy: 0.9439 - loss: 0.1787 - precision: 0.9646 - recall: 0.9370 - val_accuracy: 0.9194 - val_loss: 0.2842 - val_precision: 0.9295 - val_recall: 0.9091\n",
            "Epoch 22/30\n",
            "\u001b[1m86/86\u001b[0m \u001b[32m━━━━━━━━━━━━━━━━━━━━\u001b[0m\u001b[37m\u001b[0m \u001b[1m1s\u001b[0m 10ms/step - accuracy: 0.9478 - loss: 0.1708 - precision: 0.9669 - recall: 0.9398 - val_accuracy: 0.9179 - val_loss: 0.2857 - val_precision: 0.9309 - val_recall: 0.9091\n",
            "Epoch 23/30\n",
            "\u001b[1m86/86\u001b[0m \u001b[32m━━━━━━━━━━━━━━━━━━━━\u001b[0m\u001b[37m\u001b[0m \u001b[1m1s\u001b[0m 8ms/step - accuracy: 0.9510 - loss: 0.1639 - precision: 0.9663 - recall: 0.9404 - val_accuracy: 0.9208 - val_loss: 0.2801 - val_precision: 0.9352 - val_recall: 0.9106\n"
          ]
        }
      ]
    },
    {
      "cell_type": "markdown",
      "source": [
        "## Some plots"
      ],
      "metadata": {
        "id": "ROXVUovhYRWG"
      }
    },
    {
      "cell_type": "code",
      "source": [
        "import matplotlib.pyplot as plt\n",
        "# function for plotting loss\n",
        "def plot_metrics(train_metric, val_metric=None, metric_name=None, title=None, ylim=5):\n",
        "    plt.title(title)\n",
        "    plt.ylim(0,ylim)\n",
        "    plt.plot(train_metric,color='blue',label=metric_name)\n",
        "    if val_metric is not None: plt.plot(val_metric,color='green',label='val_' + metric_name)\n",
        "    plt.legend(loc=\"upper right\")\n",
        "\n",
        "# plot loss history\n",
        "plot_metrics(history.history['loss'], history.history['val_loss'], \"Loss\", \"Loss\", ylim=1.0)\n"
      ],
      "metadata": {
        "id": "gtIQvnUcg2T2",
        "colab": {
          "base_uri": "https://localhost:8080/",
          "height": 452
        },
        "outputId": "cdaaddbd-d108-4bb2-d596-a37e3697c5f1"
      },
      "execution_count": 41,
      "outputs": [
        {
          "output_type": "display_data",
          "data": {
            "text/plain": [
              "<Figure size 640x480 with 1 Axes>"
            ],
            "image/png": "[encoded data removed]"
          },
          "metadata": {}
        }
      ]
    },
    {
      "cell_type": "code",
      "source": [
        "plot_metrics(history.history['accuracy'], history.history['val_accuracy'], \"Accuracy\", \"Accuracy\", ylim=1.0)\n"
      ],
      "metadata": {
        "id": "q6pBSQSPg2V6",
        "colab": {
          "base_uri": "https://localhost:8080/",
          "height": 452
        },
        "outputId": "cc71258d-fcf9-4bb2-f8dc-bf6787df926d"
      },
      "execution_count": 42,
      "outputs": [
        {
          "output_type": "display_data",
          "data": {
            "text/plain": [
              "<Figure size 640x480 with 1 Axes>"
            ],
            "image/png": "[encoded data removed]"
          },
          "metadata": {}
        }
      ]
    },
    {
      "cell_type": "code",
      "source": [
        "plot_metrics(history.history['precision'], history.history['val_precision'], \"Precision\", \"Precision\", ylim=1.0)\n"
      ],
      "metadata": {
        "id": "RPe1ekWlg2Yi",
        "colab": {
          "base_uri": "https://localhost:8080/",
          "height": 452
        },
        "outputId": "df48d6a8-084d-4016-fbf8-2adbba01393e"
      },
      "execution_count": 43,
      "outputs": [
        {
          "output_type": "display_data",
          "data": {
            "text/plain": [
              "<Figure size 640x480 with 1 Axes>"
            ],
            "image/png": "[encoded data removed]"
          },
          "metadata": {}
        }
      ]
    },
    {
      "cell_type": "markdown",
      "source": [
        "# Some manual validation"
      ],
      "metadata": {
        "id": "tNqRJ0wCbXMv"
      }
    },
    {
      "cell_type": "code",
      "source": [
        "level_intents"
      ],
      "metadata": {
        "colab": {
          "base_uri": "https://localhost:8080/"
        },
        "id": "gy6fQExA2T1L",
        "outputId": "c8cd5ac6-12ae-4f31-c5ad-66d885c72cab"
      },
      "execution_count": null,
      "outputs": [
        {
          "output_type": "execute_result",
          "data": {
            "text/plain": [
              "Index(['atis_flight', 'atis_flight_time', 'atis_airfare', 'atis_aircraft',\n",
              "       'atis_ground_service', 'atis_airport', 'atis_airline', 'atis_distance',\n",
              "       'atis_abbreviation', 'atis_ground_fare', 'atis_quantity', 'atis_city',\n",
              "       'atis_capacity', 'atis_flight#atis_airfare'],\n",
              "      dtype='object')"
            ]
          },
          "metadata": {},
          "execution_count": 35
        }
      ]
    },
    {
      "cell_type": "code",
      "source": [
        "x_val = np.zeros((4, max_review_length))\n",
        "queries = ['Which hour is the next flight', 'how many flights leave in the morning', 'i want to flight to new york at the morning', 'which flight flies with an airbus A350']\n",
        "for ix, tokenized_sentence in enumerate(tokenizer.texts_to_sequences([preprocess_text(sentence, should_join=True) for sentence in queries])):\n",
        "    tokenized_sentence.extend([0]*(max_review_length-len(tokenized_sentence)))\n",
        "    x_val[ix] = tokenized_sentence\n",
        "y_val = tf.one_hot(tf.constant([1, 10, 0, 3 ]), 14)"
      ],
      "metadata": {
        "id": "eF2Trj0ul1a5"
      },
      "execution_count": null,
      "outputs": []
    },
    {
      "cell_type": "code",
      "source": [
        "x_val = np.zeros((4, max_review_length))\n",
        "x_val"
      ],
      "metadata": {
        "colab": {
          "base_uri": "https://localhost:8080/"
        },
        "id": "7YTph1DKqQ3r",
        "outputId": "b3adf15c-805f-4e72-dcb3-ea4f58b98421"
      },
      "execution_count": 45,
      "outputs": [
        {
          "output_type": "execute_result",
          "data": {
            "text/plain": [
              "array([[0., 0., 0., 0., 0., 0., 0., 0., 0., 0., 0., 0., 0., 0., 0., 0.,\n",
              "        0., 0., 0., 0., 0., 0., 0., 0., 0., 0., 0., 0., 0., 0., 0., 0.,\n",
              "        0., 0., 0., 0., 0., 0., 0., 0., 0., 0., 0.],\n",
              "       [0., 0., 0., 0., 0., 0., 0., 0., 0., 0., 0., 0., 0., 0., 0., 0.,\n",
              "        0., 0., 0., 0., 0., 0., 0., 0., 0., 0., 0., 0., 0., 0., 0., 0.,\n",
              "        0., 0., 0., 0., 0., 0., 0., 0., 0., 0., 0.],\n",
              "       [0., 0., 0., 0., 0., 0., 0., 0., 0., 0., 0., 0., 0., 0., 0., 0.,\n",
              "        0., 0., 0., 0., 0., 0., 0., 0., 0., 0., 0., 0., 0., 0., 0., 0.,\n",
              "        0., 0., 0., 0., 0., 0., 0., 0., 0., 0., 0.],\n",
              "       [0., 0., 0., 0., 0., 0., 0., 0., 0., 0., 0., 0., 0., 0., 0., 0.,\n",
              "        0., 0., 0., 0., 0., 0., 0., 0., 0., 0., 0., 0., 0., 0., 0., 0.,\n",
              "        0., 0., 0., 0., 0., 0., 0., 0., 0., 0., 0.]])"
            ]
          },
          "metadata": {},
          "execution_count": 45
        }
      ]
    },
    {
      "cell_type": "code",
      "source": [
        "model.predict(x_val)"
      ],
      "metadata": {
        "colab": {
          "base_uri": "https://localhost:8080/"
        },
        "id": "odJ47XJ8SmtC",
        "outputId": "3eecf4f9-c8af-4ed4-f4da-5733342b72bf"
      },
      "execution_count": null,
      "outputs": [
        {
          "output_type": "stream",
          "name": "stdout",
          "text": [
            "1/1 [==============================] - 0s 151ms/step\n"
          ]
        },
        {
          "output_type": "execute_result",
          "data": {
            "text/plain": [
              "array([[9.87922609e-01, 4.83939238e-03, 1.23033797e-05, 1.14638948e-04,\n",
              "        5.38179120e-06, 2.76700710e-03, 2.11087591e-03, 1.34268557e-04,\n",
              "        5.22008013e-05, 9.86671125e-07, 7.82972143e-04, 1.21533289e-03,\n",
              "        2.06917539e-05, 2.12740324e-05],\n",
              "       [5.67750186e-02, 1.89499147e-02, 1.89591054e-04, 1.67286408e-03,\n",
              "        2.09380858e-07, 2.72134843e-04, 2.19631963e-03, 1.15288385e-04,\n",
              "        2.85549345e-03, 1.08795293e-05, 8.94409180e-01, 3.63733550e-03,\n",
              "        1.81336049e-02, 7.82170973e-04],\n",
              "       [9.99499798e-01, 2.25996191e-04, 9.46959915e-07, 3.53670725e-06,\n",
              "        3.66155348e-07, 1.44660444e-04, 8.03058501e-05, 1.11767931e-05,\n",
              "        2.36375186e-07, 2.58016204e-08, 2.62982235e-06, 2.98261621e-05,\n",
              "        5.60844136e-08, 4.63504222e-07],\n",
              "       [9.65652168e-01, 3.64327658e-04, 1.82500614e-07, 3.89954686e-04,\n",
              "        2.27665478e-05, 8.58227629e-03, 1.23124216e-02, 5.08750818e-05,\n",
              "        6.19870718e-07, 4.35138475e-07, 5.39100030e-04, 1.20226871e-02,\n",
              "        6.07392867e-05, 1.41354030e-06]], dtype=float32)"
            ]
          },
          "metadata": {},
          "execution_count": 38
        }
      ]
    },
    {
      "cell_type": "code",
      "source": [
        "tf.math.argmax(model.predict(x_val), axis=1)"
      ],
      "metadata": {
        "colab": {
          "base_uri": "https://localhost:8080/"
        },
        "id": "_gpxpoysBimf",
        "outputId": "20d18d20-ac43-4685-83af-9223c5e82896"
      },
      "execution_count": null,
      "outputs": [
        {
          "output_type": "stream",
          "name": "stdout",
          "text": [
            "1/1 [==============================] - 0s 17ms/step\n"
          ]
        },
        {
          "output_type": "execute_result",
          "data": {
            "text/plain": [
              "<tf.Tensor: shape=(4,), dtype=int64, numpy=array([ 0, 10,  0,  0])>"
            ]
          },
          "metadata": {},
          "execution_count": 39
        }
      ]
    },
    {
      "cell_type": "code",
      "source": [
        "tf.math.argmax(model.predict(x_val), axis=1) == tf.math.argmax(y_val, axis=1)"
      ],
      "metadata": {
        "colab": {
          "base_uri": "https://localhost:8080/"
        },
        "id": "68dQDWkpSnIr",
        "outputId": "cc9303b4-1d64-4648-f503-5e69fc67964f"
      },
      "execution_count": null,
      "outputs": [
        {
          "output_type": "stream",
          "name": "stdout",
          "text": [
            "1/1 [==============================] - 0s 18ms/step\n"
          ]
        },
        {
          "output_type": "execute_result",
          "data": {
            "text/plain": [
              "<tf.Tensor: shape=(4,), dtype=bool, numpy=array([False,  True,  True, False])>"
            ]
          },
          "metadata": {},
          "execution_count": 40
        }
      ]
    },
    {
      "cell_type": "code",
      "source": [
        "tf.math.argmax(y_val, axis=1)"
      ],
      "metadata": {
        "colab": {
          "base_uri": "https://localhost:8080/"
        },
        "id": "xEMXekdP2t14",
        "outputId": "7c4763f0-2b63-48c1-97bf-2e49d0beeb32"
      },
      "execution_count": null,
      "outputs": [
        {
          "output_type": "execute_result",
          "data": {
            "text/plain": [
              "<tf.Tensor: shape=(4,), dtype=int64, numpy=array([ 1, 10,  0,  3])>"
            ]
          },
          "metadata": {},
          "execution_count": 41
        }
      ]
    },
    {
      "cell_type": "code",
      "source": [
        "model.evaluate(X_test_tensor, y_test_tensor)"
      ],
      "metadata": {
        "id": "icVOjVFybsU-",
        "colab": {
          "base_uri": "https://localhost:8080/"
        },
        "outputId": "29938bfc-ebaa-4ad5-eb12-19d5fbc3951f"
      },
      "execution_count": null,
      "outputs": [
        {
          "output_type": "stream",
          "name": "stdout",
          "text": [
            "46/46 [==============================] - 0s 5ms/step - loss: 0.1501 - accuracy: 0.9596 - precision: 0.9666 - recall: 0.9494\n"
          ]
        },
        {
          "output_type": "execute_result",
          "data": {
            "text/plain": [
              "[0.15012985467910767,\n",
              " 0.9596443176269531,\n",
              " 0.9665738344192505,\n",
              " 0.9493843913078308]"
            ]
          },
          "metadata": {},
          "execution_count": 42
        }
      ]
    },
    {
      "cell_type": "markdown",
      "source": [
        "Therefore, the model is amazing, reaching 95% accuracy and F1 score"
      ],
      "metadata": {
        "id": "VBSc6m2LcPfk"
      }
    },
    {
      "cell_type": "code",
      "source": [
        "for _ in model.layers:\n",
        "  try:\n",
        "    print(_.output.shape)\n",
        "  except Exception as e:\n",
        "    pass"
      ],
      "metadata": {
        "id": "UGUTiuyLmIsg",
        "colab": {
          "base_uri": "https://localhost:8080/"
        },
        "outputId": "2063a092-f9de-4bb3-ccc3-28d80db26f09"
      },
      "execution_count": 67,
      "outputs": [
        {
          "output_type": "stream",
          "name": "stdout",
          "text": [
            "(None, 43, 100)\n",
            "(None, 43, 100)\n",
            "(None, 43, 50)\n",
            "(None, 50)\n",
            "(None, 50)\n",
            "(None, 14)\n"
          ]
        }
      ]
    },
    {
      "cell_type": "code",
      "source": [],
      "metadata": {
        "id": "E1-V439kx9Mq"
      },
      "execution_count": null,
      "outputs": []
    }
  ]
}